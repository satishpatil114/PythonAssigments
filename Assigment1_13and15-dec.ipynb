{
 "cells": [
  {
   "cell_type": "markdown",
   "id": "322dda59-36c7-470a-83fe-46d4e62f2d64",
   "metadata": {},
   "source": [
    "WAP to accept two numbers from the user and display their sum"
   ]
  },
  {
   "cell_type": "code",
   "execution_count": 3,
   "id": "ad4fde33-2984-4408-ac02-0f3d2ff3fd9b",
   "metadata": {},
   "outputs": [
    {
     "name": "stdin",
     "output_type": "stream",
     "text": [
      "Enter number 1 : 12\n",
      "Enter Number 2 : 90\n"
     ]
    },
    {
     "name": "stdout",
     "output_type": "stream",
     "text": [
      "12 + 90 ==  102\n"
     ]
    }
   ],
   "source": [
    "num1 = int(input(\"Enter number 1 :\"))\n",
    "num2 = int(input(\"Enter Number 2 :\"))\n",
    "\n",
    "print(\"{} + {} == \".format(num1,num2),num1+num2)\n",
    "\n"
   ]
  },
  {
   "cell_type": "code",
   "execution_count": null,
   "id": "944c47d1-3283-410c-afb4-d8ee5765a909",
   "metadata": {},
   "outputs": [],
   "source": []
  },
  {
   "cell_type": "markdown",
   "id": "50b908ed-cefa-46a1-894a-327b4d531cc0",
   "metadata": {},
   "source": [
    "WAP to accept radius of a Circle from the user and calculate area and circumference"
   ]
  },
  {
   "cell_type": "code",
   "execution_count": 1,
   "id": "bee29e82-a7ca-48c9-a0f9-5955c01b579f",
   "metadata": {},
   "outputs": [
    {
     "name": "stdin",
     "output_type": "stream",
     "text": [
      "Enter radius of circul : 10\n"
     ]
    },
    {
     "name": "stdout",
     "output_type": "stream",
     "text": [
      " Area of circul having radius 10 is =  314.0\n",
      " Circumference of circul having radius 10 is =  62.800000000000004\n"
     ]
    }
   ],
   "source": [
    "radius = int(input(\"Enter radius of circul :\"))\n",
    "pi = 3.14\n",
    "print(\" Area of circul having radius {} is = \".format(radius),pi*radius*radius)\n",
    "print(\" Circumference of circul having radius {} is = \".format(radius),2*pi*radius)\n"
   ]
  },
  {
   "cell_type": "markdown",
   "id": "1a998327-2f73-431f-9cbd-74f2b5169750",
   "metadata": {},
   "source": [
    "WAP to accept roll number , grade and percentage as input from the user and display it back"
   ]
  },
  {
   "cell_type": "code",
   "execution_count": 2,
   "id": "09552027-7e8a-4c83-a89b-4dbcef59973e",
   "metadata": {},
   "outputs": [
    {
     "name": "stdin",
     "output_type": "stream",
     "text": [
      "Enter RollNumber :  111\n",
      "Enter Grade :  A\n",
      "Enter Percentage :  88\n"
     ]
    },
    {
     "name": "stdout",
     "output_type": "stream",
     "text": [
      "RollNumber : 111,  Grade : A ,  Percentage : 88\n"
     ]
    }
   ],
   "source": [
    "rollNumber = input(\"Enter RollNumber : \")\n",
    "grade = input(\"Enter Grade : \")\n",
    "percentage = input(\"Enter Percentage : \")\n",
    "\n",
    "print(\"RollNumber : {},  Grade : {} ,  Percentage : {}\".format(rollNumber,grade,percentage))\n",
    "\n"
   ]
  },
  {
   "cell_type": "markdown",
   "id": "bdb936f2-a961-4730-ac54-b81f6ccaa116",
   "metadata": {},
   "source": [
    "Write a program that asks the user to enter his/her name and age. Print out a message , displaying the user’s name along with the year in which they will turn 100 years old.\n"
   ]
  },
  {
   "cell_type": "code",
   "execution_count": 12,
   "id": "8acb2aa7-0108-4bd5-beb0-38da57fff26c",
   "metadata": {},
   "outputs": [
    {
     "name": "stdin",
     "output_type": "stream",
     "text": [
      "Enter your name :  Satish\n",
      "Enter your Age :  30\n"
     ]
    },
    {
     "name": "stdout",
     "output_type": "stream",
     "text": [
      "Hi Satish, you will turn 100 on year 2092\n"
     ]
    }
   ],
   "source": [
    "\n",
    "name = input(\"Enter your name : \")\n",
    "age = int(input(\"Enter your Age : \"))\n",
    "\n",
    "currentYear = 2022\n",
    "BirthYear = currentYear-age\n",
    "yearOf100Years = BirthYear+100\n",
    "\n",
    "if(yearOf100Years < currentYear):\n",
    "    print(\"Hi {}, you are already turn 100 on year {}\".format(name,yearOf100Years))\n",
    "else:    \n",
    "    print(\"Hi {}, you will turn 100 on year {}\".format(name,yearOf100Years))\n",
    "            "
   ]
  },
  {
   "cell_type": "markdown",
   "id": "c6dd2468-2262-42db-abda-73eeda957d7f",
   "metadata": {},
   "source": [
    "#Write a program that asks the user to input 2 integers and adds them . Accept both the numbers in a single line only"
   ]
  },
  {
   "cell_type": "code",
   "execution_count": null,
   "id": "2077c132-58fc-465c-b0b4-aa14075eca0c",
   "metadata": {},
   "outputs": [
    {
     "name": "stdin",
     "output_type": "stream",
     "text": [
      "Enter 2 integer numbes seperated by space :  100 200\n"
     ]
    },
    {
     "name": "stdout",
     "output_type": "stream",
     "text": [
      "100 + 200 =  300\n"
     ]
    }
   ],
   "source": [
    "numbers = input(\"Enter 2 integer numbes seperated by space : \")\n",
    "twoNumbers = numbers.split(\" \")\n",
    "addition = int(twoNumbers[0])+int(twoNumbers[1])\n",
    "print(\"{} + {} = \".format(twoNumbers[0],twoNumbers[1]),addition)\n"
   ]
  },
  {
   "cell_type": "markdown",
   "id": "2beb96d8-61e2-41ac-8389-2d97a0a6e76f",
   "metadata": {},
   "source": [
    "#Write a Python program which accepts the user's first and last name and print them in reverse order with a space between them."
   ]
  },
  {
   "cell_type": "code",
   "execution_count": 19,
   "id": "a2f788f3-895b-4329-98f2-ad100217bbaf",
   "metadata": {},
   "outputs": [
    {
     "name": "stdin",
     "output_type": "stream",
     "text": [
      " Enter First name : Satish\n",
      " Enter Last name : Patil\n"
     ]
    },
    {
     "name": "stdout",
     "output_type": "stream",
     "text": [
      "revers anme :  litaP hsitaS\n"
     ]
    }
   ],
   "source": [
    "firstName = input(\" Enter First name :\")\n",
    "LastName = input(\" Enter Last name :\")\n",
    "\n",
    "fullName = firstName + \" \" + LastName\n",
    "\n",
    "print(\"revers anme : \",fullName[::-1])\n",
    "\n",
    "\n"
   ]
  },
  {
   "cell_type": "markdown",
   "id": "1d4bce46-94d4-4c01-9a0a-e060af1f3b39",
   "metadata": {},
   "source": [
    "WAP to accept an integer from the user and check whether it is an even or odd "
   ]
  },
  {
   "cell_type": "code",
   "execution_count": 28,
   "id": "f8f8e72b-66e5-4b93-9699-3bec580dfe04",
   "metadata": {},
   "outputs": [
    {
     "name": "stdin",
     "output_type": "stream",
     "text": [
      "Enter number :  3\n"
     ]
    },
    {
     "name": "stdout",
     "output_type": "stream",
     "text": [
      "3 is Odd number\n"
     ]
    }
   ],
   "source": [
    "number1 = int(input(\"Enter number : \"))\n",
    "\n",
    "if (number1 ==0 or number1%2 == 0 ):\n",
    "    print(\"{} is even number\".format(number1))\n",
    "else:\n",
    "    print(\"{} is Odd number\".format(number1))\n",
    "                    "
   ]
  },
  {
   "cell_type": "markdown",
   "id": "14cdff0f-d66d-47e1-95f2-acc08ea614bd",
   "metadata": {},
   "source": [
    "WAP to accept a character from the user and check whether it is a capital letter or small letter. Assume user will input only alphabets"
   ]
  },
  {
   "cell_type": "code",
   "execution_count": 30,
   "id": "df20f378-3129-4a14-b469-66ebc24e0a04",
   "metadata": {},
   "outputs": [
    {
     "name": "stdin",
     "output_type": "stream",
     "text": [
      "enter char : a\n"
     ]
    },
    {
     "name": "stdout",
     "output_type": "stream",
     "text": [
      "small latter \n"
     ]
    }
   ],
   "source": [
    "char = input(\"enter char :\")\n",
    "\n",
    "ascivalue = ord(char)\n",
    "\n",
    "if (ascivalue >= 97 and ascivalue <= 122) :\n",
    "    print (\"small latter \")\n",
    "else:\n",
    "    print(\"Capital Letter \")\n",
    "    "
   ]
  },
  {
   "cell_type": "markdown",
   "id": "e7f5d3e8-0e30-4755-8df2-4288ca3cdd55",
   "metadata": {},
   "source": [
    "#WAP to accept a character from the user and check whether it is a capital letter or small letter or a digit or  some special symbol"
   ]
  },
  {
   "cell_type": "code",
   "execution_count": 37,
   "id": "faac0154-0c21-44cd-9529-8d1bd1357b86",
   "metadata": {},
   "outputs": [
    {
     "name": "stdin",
     "output_type": "stream",
     "text": [
      "enter char : $\n"
     ]
    },
    {
     "name": "stdout",
     "output_type": "stream",
     "text": [
      "Char $ is some special symbol\n"
     ]
    }
   ],
   "source": [
    "char = input(\"enter char :\")\n",
    "\n",
    "if(char.islower() == True):\n",
    "    print(\"Char {} is Small Letter\".format(char))\n",
    "elif(char.isupper() == True):\n",
    "    print(\"Char {} is Capital Letter\".format(char))\n",
    "elif(char.isdigit() == True):    \n",
    "        print(\"Char {} is Digit\".format(char))\n",
    "else:\n",
    "        print(\"Char {} is some special symbol\".format(char))\n",
    "        "
   ]
  },
  {
   "cell_type": "raw",
   "id": "b3a57055-c43b-4ac4-971b-f79fa77a8f25",
   "metadata": {},
   "source": [
    "WAP to accept 3 integers from the user and without using any logical operator and cascading of relational operators , find out the greatest number amongst them"
   ]
  },
  {
   "cell_type": "code",
   "execution_count": 49,
   "id": "1db66315-b332-4819-aa6e-2e22df86dfe8",
   "metadata": {},
   "outputs": [
    {
     "name": "stdin",
     "output_type": "stream",
     "text": [
      "Enter 1st Number : 1\n",
      "Enter 2nd Number : 1\n",
      "Enter 3rd Number : 1\n"
     ]
    },
    {
     "name": "stdout",
     "output_type": "stream",
     "text": [
      "All 3 numbers are equal 1, 1 and 1\n"
     ]
    }
   ],
   "source": [
    "num1 =int(input(\"Enter 1st Number :\"))\n",
    "num2 =int(input(\"Enter 2nd Number :\"))\n",
    "num3 =int(input(\"Enter 3rd Number :\"))\n",
    "\n",
    "if(num1>num2):\n",
    "    if(num1>num3):\n",
    "        print(\"number {} is Greatest among {} and {}\".format(num1,num2,num3))\n",
    "    elif(num3>num1):\n",
    "        if(num3>num2):        \n",
    "            print(\"number {} is Greatest among {} and {}\".format(num3,num1,num2))\n",
    "elif(num2>num1):\n",
    "    if(num2>num3):\n",
    "        print(\"number {} is Greatest among {} and {}\".format(num2,num1,num3))\n",
    "    elif(num3>num1):\n",
    "        if(num3>num2):        \n",
    "            print(\"number {} is Greatest among {} and {}\".format(num3,num1,num2))\n",
    "else:\n",
    "    print(\"All 3 numbers are equal {}, {} and {}\".format(num1,num2,num3))    \n",
    "    "
   ]
  },
  {
   "cell_type": "markdown",
   "id": "4dcac457-190b-463e-8681-01c076ed2c1a",
   "metadata": {},
   "source": [
    "WAP to accept a year from the user and check whether it is a leap year or not."
   ]
  },
  {
   "cell_type": "code",
   "execution_count": 58,
   "id": "5410c86f-86da-43cd-a068-e303eb3c4bec",
   "metadata": {},
   "outputs": [
    {
     "name": "stdin",
     "output_type": "stream",
     "text": [
      "Enter Year : 2012\n"
     ]
    },
    {
     "name": "stdout",
     "output_type": "stream",
     "text": [
      "2012 is Leap Year\n"
     ]
    }
   ],
   "source": [
    "year = int(input(\"Enter Year :\"))\n",
    "\n",
    "\n",
    "if((year % 400 == 0 )or (year % 4 == 0 and year %100 != 0)):\n",
    "    print(\"{} is Leap Year\".format(year))\n",
    "else:\n",
    "    print(\"{} is Not Leap Year\".format(year))          \n",
    "    "
   ]
  },
  {
   "cell_type": "markdown",
   "id": "4ee9f5c8-e131-4055-bfef-1ce3e12dbe30",
   "metadata": {},
   "source": [
    "You have to develop a number guessing game. Following are the steps needed:\n",
    "1 ) At first , the program will generate a random integer secretly.\n",
    "\n",
    "2 ) Now it will ask the user to guess that number .\n",
    "\n",
    "3 ) If the user guessed it correctly then the program prints “Congratulations! You guessed it right” .\n",
    "\n",
    "4 ) But if the number guessed by the user is larger than the secret number then program should print “Number too large” and , if the number guessed by the user is smaller than the secret number then the program should print “Number too small” \n",
    "\n",
    "5 ) This should continue until the user guesses the number correctly or quits .\n",
    "\n",
    "6 ) If the user wants to quit in between he will have to type 0 or negative number\n"
   ]
  },
  {
   "cell_type": "code",
   "execution_count": 1,
   "id": "29801700-b790-4abe-8b4b-e657672f18d2",
   "metadata": {},
   "outputs": [
    {
     "name": "stdin",
     "output_type": "stream",
     "text": [
      "Guess the number Between 1 to 100 : 20\n"
     ]
    },
    {
     "name": "stdout",
     "output_type": "stream",
     "text": [
      "Number too small\n"
     ]
    },
    {
     "name": "stdin",
     "output_type": "stream",
     "text": [
      " Gues number again or enter 0 or negative number to quit Game: 30\n"
     ]
    },
    {
     "name": "stdout",
     "output_type": "stream",
     "text": [
      "Number too small\n"
     ]
    },
    {
     "name": "stdin",
     "output_type": "stream",
     "text": [
      " Gues number again or enter 0 or negative number to quit Game: 40\n"
     ]
    },
    {
     "name": "stdout",
     "output_type": "stream",
     "text": [
      "Number too small\n"
     ]
    },
    {
     "name": "stdin",
     "output_type": "stream",
     "text": [
      " Gues number again or enter 0 or negative number to quit Game: 50\n"
     ]
    },
    {
     "name": "stdout",
     "output_type": "stream",
     "text": [
      "Number too small\n"
     ]
    },
    {
     "name": "stdin",
     "output_type": "stream",
     "text": [
      " Gues number again or enter 0 or negative number to quit Game: 60\n"
     ]
    },
    {
     "name": "stdout",
     "output_type": "stream",
     "text": [
      "Number too large\n"
     ]
    },
    {
     "name": "stdin",
     "output_type": "stream",
     "text": [
      " Gues number again or enter 0 or negative number to quit Game: 55\n"
     ]
    },
    {
     "name": "stdout",
     "output_type": "stream",
     "text": [
      "Congratulations! You guessed it right\n"
     ]
    }
   ],
   "source": [
    "import random\n",
    "\n",
    "randomNumber = random.randint(1,100)\n",
    "#print(\"randomNumber =\",randomNumber)\n",
    "inputnumber = int(input(\"Guess the number Between 1 to 100 :\"))\n",
    "while inputnumber > 0 or inputnumber == 0  :\n",
    "    \n",
    "    if(randomNumber == inputnumber):\n",
    "        print(\"Congratulations! You guessed it right\")\n",
    "        break\n",
    "    elif(inputnumber > randomNumber):\n",
    "        print(\"Number too large\")\n",
    "        inputnumber= int(input(\" Gues number again or enter 0 or negative number to quit Game:\"))\n",
    "    elif(inputnumber < randomNumber):\n",
    "        print(\"Number too small\")\n",
    "        inputnumber= int(input(\" Gues number again or enter 0 or negative number to quit Game:\"))\n",
    "        "
   ]
  },
  {
   "cell_type": "markdown",
   "id": "2e3f6567-1b2f-4f2b-ae81-fc94d4e7d12b",
   "metadata": {},
   "source": [
    "#Write a program to accept a string from the user and display it vertically but don’t display the vowels in it."
   ]
  },
  {
   "cell_type": "code",
   "execution_count": 7,
   "id": "790cdef6-cb0b-46b9-ac6f-e0f7428858c3",
   "metadata": {},
   "outputs": [
    {
     "name": "stdin",
     "output_type": "stream",
     "text": [
      "Enter the string : Satish Patil\n"
     ]
    },
    {
     "name": "stdout",
     "output_type": "stream",
     "text": [
      "S\n",
      "t\n",
      "s\n",
      "h\n",
      " \n",
      "P\n",
      "t\n",
      "l\n"
     ]
    }
   ],
   "source": [
    "string = input(\"Enter the string :\")\n",
    "\n",
    "vowels = [\"a\",\"e\",\"i\",\"o\",\"u\",\"A\",\"E\",\"I\",\"O\",\"U\"]\n",
    "length = len(string)\n",
    "i = 0\n",
    "while i < length :\n",
    "    s = string[i];\n",
    "    if s not in vowels:\n",
    "        print(s)\n",
    "    i = i+1    \n"
   ]
  },
  {
   "cell_type": "markdown",
   "id": "f05ef4bf-83e2-4514-8332-da8ef1e9d2e7",
   "metadata": {},
   "source": [
    "#Write a program to continuously accept integers from the user until the user types 0 and as soon as 0 is entered display sum of all the nos entered before 0"
   ]
  },
  {
   "cell_type": "code",
   "execution_count": 15,
   "id": "79d737f6-8399-4d00-ad13-b8c973f207ea",
   "metadata": {},
   "outputs": [
    {
     "name": "stdin",
     "output_type": "stream",
     "text": [
      "enter number : 10\n",
      "Enter Zero(0) to terminate or Enter Number to add : 3\n",
      "Enter Zero(0) to terminate or Enter Number to add : 5\n",
      "Enter Zero(0) to terminate or Enter Number to add : 5\n",
      "Enter Zero(0) to terminate or Enter Number to add : 5\n",
      "Enter Zero(0) to terminate or Enter Number to add : 10\n",
      "Enter Zero(0) to terminate or Enter Number to add : 0\n"
     ]
    },
    {
     "name": "stdout",
     "output_type": "stream",
     "text": [
      "Total of addition :  38\n"
     ]
    }
   ],
   "source": [
    "sum = 0\n",
    "inputNumber = int(input(\"enter number :\"))\n",
    "\n",
    "while inputNumber != 0:\n",
    "    sum = sum + inputNumber\n",
    "    inputNumber = int(input(\"Enter Zero(0) to terminate or Enter Number to add :\"))\n",
    "\n",
    "print(\"Total of All Input Numbers : \",sum)"
   ]
  },
  {
   "cell_type": "markdown",
   "id": "a75e836b-4fcf-48d1-953e-5b3f6a5dcc33",
   "metadata": {},
   "source": [
    "#Write a program to accept an integer from the user and display the sum of all the numbers from 1 to that number.\n"
   ]
  },
  {
   "cell_type": "code",
   "execution_count": 20,
   "id": "4f516a7d-a83b-40d0-b4d2-3c4528f5fa4a",
   "metadata": {},
   "outputs": [
    {
     "name": "stdin",
     "output_type": "stream",
     "text": [
      "Enter Positive number  : 3\n"
     ]
    },
    {
     "name": "stdout",
     "output_type": "stream",
     "text": [
      "Total of all the numbers from 1 to 3 is :  6\n"
     ]
    }
   ],
   "source": [
    "inputNumber = int(input(\"Enter Positive number  :\"))\n",
    "i = 0\n",
    "total = 0\n",
    "while i <= inputNumber :\n",
    "    total = total + i       \n",
    "    i=i+1\n",
    "    \n",
    "print(\"Total of all the numbers from 1 to {} is : \".format(inputNumber),total)\n"
   ]
  },
  {
   "cell_type": "markdown",
   "id": "bd6f27cc-9bca-4d5e-a4d8-58e7615453bd",
   "metadata": {},
   "source": [
    "Write a program to accept an integer from the user and calculate its factorial"
   ]
  },
  {
   "cell_type": "code",
   "execution_count": 8,
   "id": "cc4ccfe4-6117-47c1-8eb5-dce813420eb1",
   "metadata": {},
   "outputs": [
    {
     "name": "stdin",
     "output_type": "stream",
     "text": [
      "Enter the number to find its Factorial : 5\n"
     ]
    },
    {
     "name": "stdout",
     "output_type": "stream",
     "text": [
      "Factrorail of number 5 is 120\n"
     ]
    }
   ],
   "source": [
    "inputInteger = int(input(\"Enter the number to find its Factorial :\"))\n",
    "\n",
    "i = 1\n",
    "Factorial = 1\n",
    "if inputInteger > 0:\n",
    "    while i <= inputInteger:\n",
    "        Factorial = Factorial * i\n",
    "        i = i+1\n",
    "        \n",
    "print(\"Factrorail of number {} is {}\".format(inputInteger,Factorial))\n",
    "\n",
    "\n"
   ]
  },
  {
   "cell_type": "markdown",
   "id": "bb0c44d9-79cc-465b-b040-915407dcf5f1",
   "metadata": {},
   "source": [
    "Write a program to print the following pattern \n",
    "***\n",
    "***\n",
    "***\n",
    "***"
   ]
  },
  {
   "cell_type": "code",
   "execution_count": 9,
   "id": "427f3701-dce2-4e5f-9f65-64cdf46d69e0",
   "metadata": {},
   "outputs": [
    {
     "name": "stdout",
     "output_type": "stream",
     "text": [
      "***\n",
      "***\n",
      "***\n",
      "***\n"
     ]
    }
   ],
   "source": [
    "start = 1\n",
    "end =4\n",
    "while start <= end:\n",
    "    print(\"***\")\n",
    "    start = start +1\n",
    "    "
   ]
  },
  {
   "cell_type": "markdown",
   "id": "72aba14b-b4ab-40af-870e-cd29151d1504",
   "metadata": {},
   "source": [
    "Write a program to print the following pattern\n",
    "*\n",
    "**\n",
    "***\n",
    "****"
   ]
  },
  {
   "cell_type": "code",
   "execution_count": 10,
   "id": "c71c13f0-6503-4fcd-a09c-3771f88e0ffe",
   "metadata": {},
   "outputs": [
    {
     "name": "stdout",
     "output_type": "stream",
     "text": [
      "*\n",
      "**\n",
      "***\n",
      "****\n"
     ]
    }
   ],
   "source": [
    "start = 1\n",
    "end =4\n",
    "innerCounter = 1\n",
    "while start <= end:\n",
    "    innerCounter = 1\n",
    "    while start >=innerCounter:\n",
    "        print(\"*\",end=\"\")\n",
    "        innerCounter = innerCounter +1\n",
    "    print(\"\")\n",
    "    start = start +1"
   ]
  },
  {
   "cell_type": "markdown",
   "id": "c7155a37-95d3-4d41-b679-b37331373d35",
   "metadata": {},
   "source": [
    "Write a program to print the following pattern \n",
    "****\n",
    "***\n",
    "**\n",
    "*"
   ]
  },
  {
   "cell_type": "code",
   "execution_count": 11,
   "id": "998a08a7-0e7f-484e-81be-341985c2b851",
   "metadata": {},
   "outputs": [
    {
     "name": "stdout",
     "output_type": "stream",
     "text": [
      "****\n",
      "***\n",
      "**\n",
      "*\n"
     ]
    }
   ],
   "source": [
    "start = 4\n",
    "end =1\n",
    "innerCounter = 1\n",
    "while start >= end:\n",
    "    innerCounter = 1\n",
    "    while start >=innerCounter:\n",
    "        print(\"*\",end=\"\")\n",
    "        innerCounter = innerCounter +1\n",
    "    print(\"\")\n",
    "    start = start -1"
   ]
  },
  {
   "cell_type": "markdown",
   "id": "8e4945f0-f1a1-4a01-bee3-364053549f7a",
   "metadata": {},
   "source": [
    "Write a program to accept an integer from the user and display all the numbers from 1 to that number. Repeat the process until the user enters 0."
   ]
  },
  {
   "cell_type": "code",
   "execution_count": 14,
   "id": "def8080e-cc7c-49e8-9749-23ab2a1bdfef",
   "metadata": {},
   "outputs": [
    {
     "name": "stdin",
     "output_type": "stream",
     "text": [
      "Enter +ve Number greater than Zero (0): 4\n"
     ]
    },
    {
     "name": "stdout",
     "output_type": "stream",
     "text": [
      "1, 2, 3, 4, "
     ]
    },
    {
     "name": "stdin",
     "output_type": "stream",
     "text": [
      "Enter +ve Number again or  Zero (0) to terminate: 5\n"
     ]
    },
    {
     "name": "stdout",
     "output_type": "stream",
     "text": [
      "1, 2, 3, 4, 5, "
     ]
    },
    {
     "name": "stdin",
     "output_type": "stream",
     "text": [
      "Enter +ve Number again or  Zero (0) to terminate: 6\n"
     ]
    },
    {
     "name": "stdout",
     "output_type": "stream",
     "text": [
      "1, 2, 3, 4, 5, 6, "
     ]
    },
    {
     "name": "stdin",
     "output_type": "stream",
     "text": [
      "Enter +ve Number again or  Zero (0) to terminate: 7\n"
     ]
    },
    {
     "name": "stdout",
     "output_type": "stream",
     "text": [
      "1, 2, 3, 4, 5, 6, 7, "
     ]
    },
    {
     "name": "stdin",
     "output_type": "stream",
     "text": [
      "Enter +ve Number again or  Zero (0) to terminate: 20\n"
     ]
    },
    {
     "name": "stdout",
     "output_type": "stream",
     "text": [
      "1, 2, 3, 4, 5, 6, 7, 8, 9, 10, 11, 12, 13, 14, 15, 16, 17, 18, 19, 20, "
     ]
    },
    {
     "name": "stdin",
     "output_type": "stream",
     "text": [
      "Enter +ve Number again or  Zero (0) to terminate: 0\n"
     ]
    },
    {
     "name": "stdout",
     "output_type": "stream",
     "text": [
      "Program terminated\n"
     ]
    }
   ],
   "source": [
    "integer = int(input(\"Enter +ve Number greater than Zero (0):\"))\n",
    "i = 1\n",
    "while integer != 0:\n",
    "    while i <= integer:\n",
    "        print(i,end=\", \")\n",
    "        i=i+1\n",
    "    integer =  int(input(\"Enter +ve Number again or  Zero (0) to terminate:\"))\n",
    "    i = 1\n",
    "else:\n",
    "    print(\"Program terminated\")\n",
    "\n",
    "              "
   ]
  },
  {
   "cell_type": "code",
   "execution_count": null,
   "id": "06c4d09c-aa1e-45d3-9acc-0108291d195d",
   "metadata": {},
   "outputs": [],
   "source": []
  }
 ],
 "metadata": {
  "kernelspec": {
   "display_name": "Python 3 (ipykernel)",
   "language": "python",
   "name": "python3"
  },
  "language_info": {
   "codemirror_mode": {
    "name": "ipython",
    "version": 3
   },
   "file_extension": ".py",
   "mimetype": "text/x-python",
   "name": "python",
   "nbconvert_exporter": "python",
   "pygments_lexer": "ipython3",
   "version": "3.10.6"
  }
 },
 "nbformat": 4,
 "nbformat_minor": 5
}
